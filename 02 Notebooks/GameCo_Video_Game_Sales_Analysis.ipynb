{
 "cells": [
  {
   "cell_type": "markdown",
   "id": "d728f6aa-9b24-4656-b29d-523d6320d3d0",
   "metadata": {},
   "source": [
    "# 🎮 GameCo Video Game Sales Analysis\n",
    "\n",
    "In this analysis, I’m diving into global video game sales from 1980 to 2016 to help GameCo better understand market trends.  \n",
    "The goal is to uncover insights about genre popularity across regions, how different publishers are performing, and which platforms have dominated over time.\n",
    "\n",
    "I'll also be exploring patterns that aren't immediately obvious, looking for anything that can help guide smarter decisions moving forward.\n",
    "\n",
    "Let’s dig into the data and see what stands out."
   ]
  },
  {
   "cell_type": "markdown",
   "id": "3ef7ee31-3eeb-441e-b057-839792c97709",
   "metadata": {},
   "source": [
    "## Table of Contents\n",
    "\n",
    "- [1. Import Libraries](#1-import-libraries)\n",
    "- [2. Load Data](#2-load-data)\n",
    "- [3. Data Cleaning](#3-data-cleaning)\n",
    "- [4. Exploratory Data Analysis (EDA)](#4-exploratory-data-analysis-eda)\n",
    "- [5. Feature Engineering](#5-feature-engineering)\n",
    "- [6. Case Study Analysis](#9-case-study-analysis)\n",
    "- [7. Conclusion](#10-conclusion)"
   ]
  },
  {
   "cell_type": "markdown",
   "id": "aba2d8d5-7ec1-420e-8aa2-9ba6615e7131",
   "metadata": {},
   "source": [
    "---"
   ]
  },
  {
   "cell_type": "markdown",
   "id": "d83d71df-351a-415f-97bb-ac852f8a75b7",
   "metadata": {},
   "source": [
    "## 1. Import Libraries\n",
    "\n",
    "First, I’m importing all the libraries I’ll need for cleaning, analyzing, visualizing, and modeling the data. Keeping them all in one place at the top makes things easier to manage later on."
   ]
  },
  {
   "cell_type": "code",
   "execution_count": 63,
   "id": "c6533fb2-5543-4994-b7dd-732f739fa98f",
   "metadata": {},
   "outputs": [],
   "source": [
    "import warnings\n",
    "warnings.filterwarnings('ignore', category=UserWarning)"
   ]
  },
  {
   "cell_type": "code",
   "execution_count": 7,
   "id": "8b7ccc5a-a54b-4eb0-92b0-eb567d801127",
   "metadata": {},
   "outputs": [],
   "source": [
    "# Import all libraries at the top to keep things organized\n",
    "import pandas as pd\n",
    "import numpy as np\n",
    "import matplotlib.pyplot as plt\n",
    "import seaborn as sns\n",
    "\n",
    "# Optional: prettier charts\n",
    "import plotly.express as px\n",
    "\n",
    "# For machine learning (later steps)\n",
    "from sklearn.cluster import KMeans\n",
    "from sklearn.preprocessing import StandardScaler\n",
    "from sklearn.model_selection import train_test_split\n",
    "\n",
    "# Settings\n",
    "plt.style.use(\"ggplot\")\n",
    "pd.set_option(\"display.float_format\", lambda x: f\"{x:,.2f}\")"
   ]
  },
  {
   "cell_type": "markdown",
   "id": "2d178b44-a953-480d-bd4b-19855f8ad643",
   "metadata": {},
   "source": [
    "---"
   ]
  },
  {
   "cell_type": "markdown",
   "id": "9ac91f84-8b9f-4c7d-9881-16aef1825525",
   "metadata": {},
   "source": [
    "## 2. Load Data\n",
    "\n",
    "Now I’m loading the video game sales dataset I cleaned earlier.  \n",
    "This version includes sales by region, platform, genre, publisher, and release year. I want to get a quick look at the structure and make sure everything came in correctly."
   ]
  },
  {
   "cell_type": "code",
   "execution_count": 13,
   "id": "678b02df-7108-4964-8bd6-a361f01be1e2",
   "metadata": {},
   "outputs": [
    {
     "data": {
      "text/html": [
       "<div>\n",
       "<style scoped>\n",
       "    .dataframe tbody tr th:only-of-type {\n",
       "        vertical-align: middle;\n",
       "    }\n",
       "\n",
       "    .dataframe tbody tr th {\n",
       "        vertical-align: top;\n",
       "    }\n",
       "\n",
       "    .dataframe thead th {\n",
       "        text-align: right;\n",
       "    }\n",
       "</style>\n",
       "<table border=\"1\" class=\"dataframe\">\n",
       "  <thead>\n",
       "    <tr style=\"text-align: right;\">\n",
       "      <th></th>\n",
       "      <th>Rank</th>\n",
       "      <th>Name</th>\n",
       "      <th>Platform</th>\n",
       "      <th>Year</th>\n",
       "      <th>Genre</th>\n",
       "      <th>Publisher</th>\n",
       "      <th>NA_Sales</th>\n",
       "      <th>NA_Units</th>\n",
       "      <th>EU_Sales</th>\n",
       "      <th>JP_Sales</th>\n",
       "      <th>Other_Sales</th>\n",
       "      <th>Global_Sales</th>\n",
       "    </tr>\n",
       "  </thead>\n",
       "  <tbody>\n",
       "    <tr>\n",
       "      <th>0</th>\n",
       "      <td>1</td>\n",
       "      <td>Wii Sports</td>\n",
       "      <td>Wii</td>\n",
       "      <td>2,006.00</td>\n",
       "      <td>Sports</td>\n",
       "      <td>Nintendo</td>\n",
       "      <td>41.49</td>\n",
       "      <td>0.00</td>\n",
       "      <td>29.02</td>\n",
       "      <td>3.77</td>\n",
       "      <td>8.46</td>\n",
       "      <td>82.74</td>\n",
       "    </tr>\n",
       "    <tr>\n",
       "      <th>1</th>\n",
       "      <td>2</td>\n",
       "      <td>Super Mario Bros.</td>\n",
       "      <td>NES</td>\n",
       "      <td>1,985.00</td>\n",
       "      <td>Platform</td>\n",
       "      <td>Nintendo</td>\n",
       "      <td>29.08</td>\n",
       "      <td>0.00</td>\n",
       "      <td>3.58</td>\n",
       "      <td>6.81</td>\n",
       "      <td>0.77</td>\n",
       "      <td>40.24</td>\n",
       "    </tr>\n",
       "    <tr>\n",
       "      <th>2</th>\n",
       "      <td>3</td>\n",
       "      <td>Mario Kart Wii</td>\n",
       "      <td>Wii</td>\n",
       "      <td>2,008.00</td>\n",
       "      <td>Racing</td>\n",
       "      <td>Nintendo</td>\n",
       "      <td>15.85</td>\n",
       "      <td>0.00</td>\n",
       "      <td>12.88</td>\n",
       "      <td>3.79</td>\n",
       "      <td>3.31</td>\n",
       "      <td>35.82</td>\n",
       "    </tr>\n",
       "    <tr>\n",
       "      <th>3</th>\n",
       "      <td>4</td>\n",
       "      <td>Wii Sports Resort</td>\n",
       "      <td>Wii</td>\n",
       "      <td>2,009.00</td>\n",
       "      <td>Sports</td>\n",
       "      <td>Nintendo</td>\n",
       "      <td>15.75</td>\n",
       "      <td>0.00</td>\n",
       "      <td>11.01</td>\n",
       "      <td>3.28</td>\n",
       "      <td>2.96</td>\n",
       "      <td>33.00</td>\n",
       "    </tr>\n",
       "    <tr>\n",
       "      <th>4</th>\n",
       "      <td>5</td>\n",
       "      <td>Pokemon Red/Pokemon Blue</td>\n",
       "      <td>GB</td>\n",
       "      <td>1,996.00</td>\n",
       "      <td>Role-Playing</td>\n",
       "      <td>Nintendo</td>\n",
       "      <td>11.27</td>\n",
       "      <td>0.00</td>\n",
       "      <td>8.89</td>\n",
       "      <td>10.22</td>\n",
       "      <td>1.00</td>\n",
       "      <td>31.37</td>\n",
       "    </tr>\n",
       "  </tbody>\n",
       "</table>\n",
       "</div>"
      ],
      "text/plain": [
       "   Rank                      Name Platform     Year         Genre Publisher  \\\n",
       "0     1                Wii Sports      Wii 2,006.00        Sports  Nintendo   \n",
       "1     2         Super Mario Bros.      NES 1,985.00      Platform  Nintendo   \n",
       "2     3            Mario Kart Wii      Wii 2,008.00        Racing  Nintendo   \n",
       "3     4         Wii Sports Resort      Wii 2,009.00        Sports  Nintendo   \n",
       "4     5  Pokemon Red/Pokemon Blue       GB 1,996.00  Role-Playing  Nintendo   \n",
       "\n",
       "   NA_Sales  NA_Units  EU_Sales  JP_Sales  Other_Sales  Global_Sales  \n",
       "0     41.49      0.00     29.02      3.77         8.46         82.74  \n",
       "1     29.08      0.00      3.58      6.81         0.77         40.24  \n",
       "2     15.85      0.00     12.88      3.79         3.31         35.82  \n",
       "3     15.75      0.00     11.01      3.28         2.96         33.00  \n",
       "4     11.27      0.00      8.89     10.22         1.00         31.37  "
      ]
     },
     "execution_count": 13,
     "metadata": {},
     "output_type": "execute_result"
    }
   ],
   "source": [
    "# Load the cleaned dataset using the full correct path\n",
    "df = pd.read_excel(r\"D:\\YVC\\YVC Portfolio Implementation\\Data Analytics Projects\\Video Game Sales\\02 Data\\Cleaned\\vgsales_final_cleaned_dataset.xlsx\")\n",
    "\n",
    "# Preview the structure\n",
    "df.head()"
   ]
  },
  {
   "cell_type": "code",
   "execution_count": 15,
   "id": "ae751b16-2c05-482b-b6f2-db24fe77ba05",
   "metadata": {},
   "outputs": [
    {
     "name": "stdout",
     "output_type": "stream",
     "text": [
      "<class 'pandas.core.frame.DataFrame'>\n",
      "RangeIndex: 16600 entries, 0 to 16599\n",
      "Data columns (total 12 columns):\n",
      " #   Column        Non-Null Count  Dtype  \n",
      "---  ------        --------------  -----  \n",
      " 0   Rank          16600 non-null  int64  \n",
      " 1   Name          16583 non-null  object \n",
      " 2   Platform      16578 non-null  object \n",
      " 3   Year          16329 non-null  float64\n",
      " 4   Genre         16584 non-null  object \n",
      " 5   Publisher     16524 non-null  object \n",
      " 6   NA_Sales      16599 non-null  float64\n",
      " 7   NA_Units      16594 non-null  float64\n",
      " 8   EU_Sales      16593 non-null  float64\n",
      " 9   JP_Sales      16593 non-null  float64\n",
      " 10  Other_Sales   16023 non-null  float64\n",
      " 11  Global_Sales  16593 non-null  float64\n",
      "dtypes: float64(7), int64(1), object(4)\n",
      "memory usage: 1.5+ MB\n"
     ]
    }
   ],
   "source": [
    "# Look at column types and missing values\n",
    "df.info()"
   ]
  },
  {
   "cell_type": "markdown",
   "id": "4f997e63-6237-4689-ad94-8e9c30df91c9",
   "metadata": {},
   "source": [
    "---"
   ]
  },
  {
   "cell_type": "markdown",
   "id": "6cd6f089-9b12-4710-981e-27b1edd7d319",
   "metadata": {},
   "source": [
    "## 3. Data Cleaning\n",
    "\n",
    "Time to clean things up. I’ll start by checking for any missing values, fixing column types, and renaming things if needed. Keeping the dataset clean will make the analysis smoother later on."
   ]
  },
  {
   "cell_type": "code",
   "execution_count": 19,
   "id": "6db03c59-32a2-4eb9-bd92-831836b44b22",
   "metadata": {},
   "outputs": [
    {
     "data": {
      "text/plain": [
       "Rank              0\n",
       "Name             17\n",
       "Platform         22\n",
       "Year            271\n",
       "Genre            16\n",
       "Publisher        76\n",
       "NA_Sales          1\n",
       "NA_Units          6\n",
       "EU_Sales          7\n",
       "JP_Sales          7\n",
       "Other_Sales     577\n",
       "Global_Sales      7\n",
       "dtype: int64"
      ]
     },
     "execution_count": 19,
     "metadata": {},
     "output_type": "execute_result"
    }
   ],
   "source": [
    "# Check for missing values in each column\n",
    "df.isnull().sum()"
   ]
  },
  {
   "cell_type": "markdown",
   "id": "cb01a499-b4bd-4238-b7af-339a7c12423c",
   "metadata": {},
   "source": [
    "🔽🔽🔽🔽🔽"
   ]
  },
  {
   "cell_type": "markdown",
   "id": "cce305cd-c904-4c27-b795-9e4a57bb468d",
   "metadata": {},
   "source": [
    "### 🔹Drop rows with missing identifiers\n",
    "\n",
    "Before doing any analysis, I need to make sure the data has the basics like name, platform, genre, publisher, and year.  \n",
    "If any of those are missing, the row won’t be useful, so I’m dropping them first."
   ]
  },
  {
   "cell_type": "code",
   "execution_count": 22,
   "id": "a9eb8bb1-feba-47bd-bf06-9ef2ece38a7f",
   "metadata": {},
   "outputs": [
    {
     "data": {
      "text/plain": [
       "(16237, 12)"
      ]
     },
     "execution_count": 22,
     "metadata": {},
     "output_type": "execute_result"
    }
   ],
   "source": [
    "# Drop rows missing key identifying info\n",
    "df.dropna(subset=['Name', 'Platform', 'Year', 'Genre', 'Publisher'], inplace=True)\n",
    "\n",
    "# Check new shape\n",
    "df.shape"
   ]
  },
  {
   "cell_type": "markdown",
   "id": "e77e4132-728c-402c-826d-de8754f6d4ff",
   "metadata": {},
   "source": [
    "🔽🔽🔽🔽🔽"
   ]
  },
  {
   "cell_type": "markdown",
   "id": "cd976239-1b2e-40ec-8371-fa1299ec0e59",
   "metadata": {},
   "source": [
    "### 🔹Handle missing sales values\n",
    "\n",
    "There are just a few missing values in the regional and global sales columns.  \n",
    "Since these are numerical, I’ll fill them with 0 which makes sense because missing likely means no reported sales in that region."
   ]
  },
  {
   "cell_type": "code",
   "execution_count": 27,
   "id": "3501fa4b-9682-4c93-be08-cc243622b1df",
   "metadata": {},
   "outputs": [
    {
     "data": {
      "text/plain": [
       "Rank            0\n",
       "Name            0\n",
       "Platform        0\n",
       "Year            0\n",
       "Genre           0\n",
       "Publisher       0\n",
       "NA_Sales        0\n",
       "NA_Units        0\n",
       "EU_Sales        0\n",
       "JP_Sales        0\n",
       "Other_Sales     0\n",
       "Global_Sales    0\n",
       "dtype: int64"
      ]
     },
     "execution_count": 27,
     "metadata": {},
     "output_type": "execute_result"
    }
   ],
   "source": [
    "# Fill missing numeric sales values with 0\n",
    "sales_cols = ['NA_Sales', 'NA_Units', 'EU_Sales', 'JP_Sales', 'Other_Sales', 'Global_Sales']\n",
    "df[sales_cols] = df[sales_cols].fillna(0)\n",
    "\n",
    "# Check again to confirm\n",
    "df.isnull().sum()"
   ]
  },
  {
   "cell_type": "markdown",
   "id": "891cbb22-e26d-4073-9cd6-380e7283d27b",
   "metadata": {},
   "source": [
    "🔽🔽🔽🔽🔽"
   ]
  },
  {
   "cell_type": "markdown",
   "id": "58049535-2dea-4fc8-80b6-88cf3b68c905",
   "metadata": {},
   "source": [
    "### 🔹Convert the Year column to an integer\n",
    "\n",
    "The Year column came in as a float, but it should just be a whole number.  \n",
    "I’m changing it to an integer so it’s cleaner and easier to work with later."
   ]
  },
  {
   "cell_type": "code",
   "execution_count": 31,
   "id": "78ac1640-25b3-4654-830b-ad8b4cec3188",
   "metadata": {},
   "outputs": [
    {
     "data": {
      "text/plain": [
       "dtype('int32')"
      ]
     },
     "execution_count": 31,
     "metadata": {},
     "output_type": "execute_result"
    }
   ],
   "source": [
    "# Convert Year from float to integer\n",
    "df['Year'] = df['Year'].astype(int)\n",
    "\n",
    "# Check the result\n",
    "df.dtypes['Year']"
   ]
  },
  {
   "cell_type": "markdown",
   "id": "b0fcf067-d8ae-4dbe-82a5-2c81fe8cd7d5",
   "metadata": {},
   "source": [
    "🔽🔽🔽🔽🔽"
   ]
  },
  {
   "cell_type": "markdown",
   "id": "2a1dff06-ac5e-42c2-a183-6e10f5a50944",
   "metadata": {},
   "source": [
    "### 🔹Rename columns to Python-friendly format\n",
    "\n",
    "Renaming the columns to snake_case and lowercase. This helps avoid issues when writing code later, and keeps everything clean and consistent."
   ]
  },
  {
   "cell_type": "code",
   "execution_count": 36,
   "id": "efa7fc1d-065b-4145-ab52-021677270bf8",
   "metadata": {},
   "outputs": [
    {
     "data": {
      "text/plain": [
       "Index(['rank', 'name', 'platform', 'year', 'genre', 'publisher', 'na_sales',\n",
       "       'na_units', 'eu_sales', 'jp_sales', 'other_sales', 'global_sales'],\n",
       "      dtype='object')"
      ]
     },
     "execution_count": 36,
     "metadata": {},
     "output_type": "execute_result"
    }
   ],
   "source": [
    "# Rename columns: lowercase + snake_case\n",
    "df.rename(columns={\n",
    "    'Rank': 'rank',\n",
    "    'Name': 'name',\n",
    "    'Platform': 'platform',\n",
    "    'Year': 'year',\n",
    "    'Genre': 'genre',\n",
    "    'Publisher': 'publisher',\n",
    "    'NA_Sales': 'na_sales',\n",
    "    'NA_Units': 'na_units',\n",
    "    'EU_Sales': 'eu_sales',\n",
    "    'JP_Sales': 'jp_sales',\n",
    "    'Other_Sales': 'other_sales',\n",
    "    'Global_Sales': 'global_sales'\n",
    "}, inplace=True)\n",
    "\n",
    "# Confirm new column names\n",
    "df.columns"
   ]
  },
  {
   "cell_type": "markdown",
   "id": "74763567-5248-4767-b7ad-d16dc1ac21d6",
   "metadata": {},
   "source": [
    "---"
   ]
  },
  {
   "cell_type": "markdown",
   "id": "977c501f-ae83-4b2a-a057-054c2a0d697d",
   "metadata": {},
   "source": [
    "## 4. Exploratory Data Analysis (EDA)\n",
    "\n",
    "I’ve already explored the usual breakdowns in Tableau, like genre sales by region and overall platform trends.  \n",
    "This time I want to dig deeper using Python and apply some machine learning.\n",
    "\n",
    "The goal here is to see if there are patterns in how publishers behave. \n",
    "Can I group them based on things like regional sales performance or genre spread?  \n",
    "\n",
    "If GameCo can identify different “types” of publishers, that could help shape future partnership strategies."
   ]
  },
  {
   "cell_type": "markdown",
   "id": "c3b43b51-575b-43ef-8e99-ee393c70a5f5",
   "metadata": {},
   "source": [
    "### 🔹Prepare publisher data for clustering\n",
    "\n",
    "To find patterns in publisher behavior, I need to group the data by publisher and calculate things like total sales per region.  \n",
    "This will give me a matrix where each publisher is a row, and their sales patterns across different regions become the features for clustering."
   ]
  },
  {
   "cell_type": "code",
   "execution_count": 47,
   "id": "33d24c6c-b2bb-4e97-a9cf-741877c58c26",
   "metadata": {},
   "outputs": [
    {
     "data": {
      "text/html": [
       "<div>\n",
       "<style scoped>\n",
       "    .dataframe tbody tr th:only-of-type {\n",
       "        vertical-align: middle;\n",
       "    }\n",
       "\n",
       "    .dataframe tbody tr th {\n",
       "        vertical-align: top;\n",
       "    }\n",
       "\n",
       "    .dataframe thead th {\n",
       "        text-align: right;\n",
       "    }\n",
       "</style>\n",
       "<table border=\"1\" class=\"dataframe\">\n",
       "  <thead>\n",
       "    <tr style=\"text-align: right;\">\n",
       "      <th></th>\n",
       "      <th>na_sales</th>\n",
       "      <th>eu_sales</th>\n",
       "      <th>jp_sales</th>\n",
       "      <th>other_sales</th>\n",
       "      <th>global_sales</th>\n",
       "    </tr>\n",
       "    <tr>\n",
       "      <th>publisher</th>\n",
       "      <th></th>\n",
       "      <th></th>\n",
       "      <th></th>\n",
       "      <th></th>\n",
       "      <th></th>\n",
       "    </tr>\n",
       "  </thead>\n",
       "  <tbody>\n",
       "    <tr>\n",
       "      <th>10TACLE Studios</th>\n",
       "      <td>0.07</td>\n",
       "      <td>0.04</td>\n",
       "      <td>0.00</td>\n",
       "      <td>0.00</td>\n",
       "      <td>0.11</td>\n",
       "    </tr>\n",
       "    <tr>\n",
       "      <th>1C Company</th>\n",
       "      <td>0.01</td>\n",
       "      <td>0.07</td>\n",
       "      <td>0.00</td>\n",
       "      <td>0.02</td>\n",
       "      <td>0.10</td>\n",
       "    </tr>\n",
       "    <tr>\n",
       "      <th>20th Century Fox Video Games</th>\n",
       "      <td>1.82</td>\n",
       "      <td>0.10</td>\n",
       "      <td>0.00</td>\n",
       "      <td>0.01</td>\n",
       "      <td>1.94</td>\n",
       "    </tr>\n",
       "    <tr>\n",
       "      <th>2D Boy</th>\n",
       "      <td>0.00</td>\n",
       "      <td>0.03</td>\n",
       "      <td>0.00</td>\n",
       "      <td>0.01</td>\n",
       "      <td>0.04</td>\n",
       "    </tr>\n",
       "    <tr>\n",
       "      <th>3DO</th>\n",
       "      <td>6.48</td>\n",
       "      <td>3.04</td>\n",
       "      <td>0.00</td>\n",
       "      <td>0.63</td>\n",
       "      <td>10.12</td>\n",
       "    </tr>\n",
       "  </tbody>\n",
       "</table>\n",
       "</div>"
      ],
      "text/plain": [
       "                              na_sales  eu_sales  jp_sales  other_sales  \\\n",
       "publisher                                                                 \n",
       "10TACLE Studios                   0.07      0.04      0.00         0.00   \n",
       "1C Company                        0.01      0.07      0.00         0.02   \n",
       "20th Century Fox Video Games      1.82      0.10      0.00         0.01   \n",
       "2D Boy                            0.00      0.03      0.00         0.01   \n",
       "3DO                               6.48      3.04      0.00         0.63   \n",
       "\n",
       "                              global_sales  \n",
       "publisher                                   \n",
       "10TACLE Studios                       0.11  \n",
       "1C Company                            0.10  \n",
       "20th Century Fox Video Games          1.94  \n",
       "2D Boy                                0.04  \n",
       "3DO                                  10.12  "
      ]
     },
     "execution_count": 47,
     "metadata": {},
     "output_type": "execute_result"
    }
   ],
   "source": [
    "# Group data by publisher and sum regional/global sales\n",
    "publisher_sales = df.groupby('publisher')[['na_sales', 'eu_sales', 'jp_sales', 'other_sales', 'global_sales']].sum()\n",
    "\n",
    "# Preview the data\n",
    "publisher_sales.head()"
   ]
  },
  {
   "cell_type": "markdown",
   "id": "26ecd414-f600-4fd7-a5a9-40c702662676",
   "metadata": {},
   "source": [
    "🔽🔽🔽🔽🔽"
   ]
  },
  {
   "cell_type": "markdown",
   "id": "4184de66-c758-44bf-b822-b33c26a96a48",
   "metadata": {},
   "source": [
    "### 🔹Scale the sales data\n",
    "\n",
    "Since the sales numbers vary a lot by region, I’m using StandardScaler to normalize everything.  \n",
    "This makes sure one region doesn’t outweigh the others just because the values are bigger."
   ]
  },
  {
   "cell_type": "code",
   "execution_count": 54,
   "id": "bd8d4b58-c88e-4f21-9194-d0d0009053e8",
   "metadata": {},
   "outputs": [
    {
     "data": {
      "text/html": [
       "<div>\n",
       "<style scoped>\n",
       "    .dataframe tbody tr th:only-of-type {\n",
       "        vertical-align: middle;\n",
       "    }\n",
       "\n",
       "    .dataframe tbody tr th {\n",
       "        vertical-align: top;\n",
       "    }\n",
       "\n",
       "    .dataframe thead th {\n",
       "        text-align: right;\n",
       "    }\n",
       "</style>\n",
       "<table border=\"1\" class=\"dataframe\">\n",
       "  <thead>\n",
       "    <tr style=\"text-align: right;\">\n",
       "      <th></th>\n",
       "      <th>na_sales</th>\n",
       "      <th>eu_sales</th>\n",
       "      <th>jp_sales</th>\n",
       "      <th>other_sales</th>\n",
       "      <th>global_sales</th>\n",
       "    </tr>\n",
       "    <tr>\n",
       "      <th>publisher</th>\n",
       "      <th></th>\n",
       "      <th></th>\n",
       "      <th></th>\n",
       "      <th></th>\n",
       "      <th></th>\n",
       "    </tr>\n",
       "  </thead>\n",
       "  <tbody>\n",
       "    <tr>\n",
       "      <th>10TACLE Studios</th>\n",
       "      <td>-0.15</td>\n",
       "      <td>-0.15</td>\n",
       "      <td>-0.11</td>\n",
       "      <td>-0.15</td>\n",
       "      <td>-0.15</td>\n",
       "    </tr>\n",
       "    <tr>\n",
       "      <th>1C Company</th>\n",
       "      <td>-0.15</td>\n",
       "      <td>-0.15</td>\n",
       "      <td>-0.11</td>\n",
       "      <td>-0.15</td>\n",
       "      <td>-0.15</td>\n",
       "    </tr>\n",
       "    <tr>\n",
       "      <th>20th Century Fox Video Games</th>\n",
       "      <td>-0.11</td>\n",
       "      <td>-0.14</td>\n",
       "      <td>-0.11</td>\n",
       "      <td>-0.15</td>\n",
       "      <td>-0.13</td>\n",
       "    </tr>\n",
       "    <tr>\n",
       "      <th>2D Boy</th>\n",
       "      <td>-0.15</td>\n",
       "      <td>-0.15</td>\n",
       "      <td>-0.11</td>\n",
       "      <td>-0.15</td>\n",
       "      <td>-0.15</td>\n",
       "    </tr>\n",
       "    <tr>\n",
       "      <th>3DO</th>\n",
       "      <td>-0.02</td>\n",
       "      <td>-0.04</td>\n",
       "      <td>-0.11</td>\n",
       "      <td>-0.08</td>\n",
       "      <td>-0.05</td>\n",
       "    </tr>\n",
       "  </tbody>\n",
       "</table>\n",
       "</div>"
      ],
      "text/plain": [
       "                              na_sales  eu_sales  jp_sales  other_sales  \\\n",
       "publisher                                                                 \n",
       "10TACLE Studios                  -0.15     -0.15     -0.11        -0.15   \n",
       "1C Company                       -0.15     -0.15     -0.11        -0.15   \n",
       "20th Century Fox Video Games     -0.11     -0.14     -0.11        -0.15   \n",
       "2D Boy                           -0.15     -0.15     -0.11        -0.15   \n",
       "3DO                              -0.02     -0.04     -0.11        -0.08   \n",
       "\n",
       "                              global_sales  \n",
       "publisher                                   \n",
       "10TACLE Studios                      -0.15  \n",
       "1C Company                           -0.15  \n",
       "20th Century Fox Video Games         -0.13  \n",
       "2D Boy                               -0.15  \n",
       "3DO                                  -0.05  "
      ]
     },
     "execution_count": 54,
     "metadata": {},
     "output_type": "execute_result"
    }
   ],
   "source": [
    "from sklearn.preprocessing import StandardScaler\n",
    "\n",
    "# Scale the data\n",
    "scaler = StandardScaler()\n",
    "scaled_data = scaler.fit_transform(publisher_sales)\n",
    "\n",
    "# Convert back to a DataFrame for easier viewing (optional)\n",
    "scaled_df = pd.DataFrame(scaled_data, index=publisher_sales.index, columns=publisher_sales.columns)\n",
    "scaled_df.head()"
   ]
  },
  {
   "cell_type": "markdown",
   "id": "76d9c6c7-b44a-44fc-9287-2f6b600cd6a3",
   "metadata": {},
   "source": [
    "🔽🔽🔽🔽🔽"
   ]
  },
  {
   "cell_type": "markdown",
   "id": "c23ea5d9-af51-4bfb-9795-074ee2f5c2f2",
   "metadata": {},
   "source": [
    "### 🔹Using the elbow method to choose the number of clusters\n",
    "\n",
    "Before running KMeans, I need to figure out how many clusters make sense.  \n",
    "The elbow method shows how the model’s error drops as I increase the number of clusters.  \n",
    "The goal is to find the point where adding more clusters doesn’t improve things much that’s the “elbow.”"
   ]
  },
  {
   "cell_type": "code",
   "execution_count": 65,
   "id": "f2821914-8aec-461c-9f4e-973e7dc42b7f",
   "metadata": {},
   "outputs": [
    {
     "data": {
      "image/png": "[encoded data removed]",
      "text/plain": [
       "<Figure size 800x500 with 1 Axes>"
      ]
     },
     "metadata": {},
     "output_type": "display_data"
    }
   ],
   "source": [
    "from sklearn.cluster import KMeans\n",
    "import matplotlib.pyplot as plt\n",
    "\n",
    "# Try cluster counts from 1 to 10\n",
    "inertia = []\n",
    "k_range = range(1, 11)\n",
    "\n",
    "for k in k_range:\n",
    "    kmeans = KMeans(n_clusters=k, random_state=42)\n",
    "    kmeans.fit(scaled_df)\n",
    "    inertia.append(kmeans.inertia_)\n",
    "\n",
    "# Plot the results\n",
    "plt.figure(figsize=(8, 5))\n",
    "plt.plot(k_range, inertia, marker='o')\n",
    "plt.title(\"Elbow Method: Choosing Number of Clusters\")\n",
    "plt.xlabel(\"Number of Clusters\")\n",
    "plt.ylabel(\"Inertia (within-cluster sum of squares)\")\n",
    "plt.grid(True)\n",
    "plt.tight_layout()\n",
    "plt.show()"
   ]
  },
  {
   "cell_type": "markdown",
   "id": "c13186a1-2df0-4dad-bb1a-cf6a1c39b15c",
   "metadata": {},
   "source": [
    "🔽🔽🔽🔽🔽"
   ]
  },
  {
   "cell_type": "markdown",
   "id": "2b891abd-cfcb-4833-8a0d-166f658eacf6",
   "metadata": {},
   "source": [
    "### 🔹Train KMeans models (3 and 4 clusters)\n",
    "\n",
    "I’m running KMeans with both 3 and 4 clusters to see how the publisher groupings change.  \n",
    "This will help me compare the difference between a simpler view and a more detailed one."
   ]
  },
  {
   "cell_type": "code",
   "execution_count": 70,
   "id": "e820f000-5aae-438e-8677-b54fe05b432c",
   "metadata": {},
   "outputs": [
    {
     "data": {
      "text/html": [
       "<div>\n",
       "<style scoped>\n",
       "    .dataframe tbody tr th:only-of-type {\n",
       "        vertical-align: middle;\n",
       "    }\n",
       "\n",
       "    .dataframe tbody tr th {\n",
       "        vertical-align: top;\n",
       "    }\n",
       "\n",
       "    .dataframe thead th {\n",
       "        text-align: right;\n",
       "    }\n",
       "</style>\n",
       "<table border=\"1\" class=\"dataframe\">\n",
       "  <thead>\n",
       "    <tr style=\"text-align: right;\">\n",
       "      <th></th>\n",
       "      <th>na_sales</th>\n",
       "      <th>eu_sales</th>\n",
       "      <th>jp_sales</th>\n",
       "      <th>other_sales</th>\n",
       "      <th>global_sales</th>\n",
       "      <th>cluster_3</th>\n",
       "      <th>cluster_4</th>\n",
       "    </tr>\n",
       "    <tr>\n",
       "      <th>publisher</th>\n",
       "      <th></th>\n",
       "      <th></th>\n",
       "      <th></th>\n",
       "      <th></th>\n",
       "      <th></th>\n",
       "      <th></th>\n",
       "      <th></th>\n",
       "    </tr>\n",
       "  </thead>\n",
       "  <tbody>\n",
       "    <tr>\n",
       "      <th>10TACLE Studios</th>\n",
       "      <td>0.07</td>\n",
       "      <td>0.04</td>\n",
       "      <td>0.00</td>\n",
       "      <td>0.00</td>\n",
       "      <td>0.11</td>\n",
       "      <td>0</td>\n",
       "      <td>0</td>\n",
       "    </tr>\n",
       "    <tr>\n",
       "      <th>1C Company</th>\n",
       "      <td>0.01</td>\n",
       "      <td>0.07</td>\n",
       "      <td>0.00</td>\n",
       "      <td>0.02</td>\n",
       "      <td>0.10</td>\n",
       "      <td>0</td>\n",
       "      <td>0</td>\n",
       "    </tr>\n",
       "    <tr>\n",
       "      <th>20th Century Fox Video Games</th>\n",
       "      <td>1.82</td>\n",
       "      <td>0.10</td>\n",
       "      <td>0.00</td>\n",
       "      <td>0.01</td>\n",
       "      <td>1.94</td>\n",
       "      <td>0</td>\n",
       "      <td>0</td>\n",
       "    </tr>\n",
       "    <tr>\n",
       "      <th>2D Boy</th>\n",
       "      <td>0.00</td>\n",
       "      <td>0.03</td>\n",
       "      <td>0.00</td>\n",
       "      <td>0.01</td>\n",
       "      <td>0.04</td>\n",
       "      <td>0</td>\n",
       "      <td>0</td>\n",
       "    </tr>\n",
       "    <tr>\n",
       "      <th>3DO</th>\n",
       "      <td>6.48</td>\n",
       "      <td>3.04</td>\n",
       "      <td>0.00</td>\n",
       "      <td>0.63</td>\n",
       "      <td>10.12</td>\n",
       "      <td>0</td>\n",
       "      <td>0</td>\n",
       "    </tr>\n",
       "  </tbody>\n",
       "</table>\n",
       "</div>"
      ],
      "text/plain": [
       "                              na_sales  eu_sales  jp_sales  other_sales  \\\n",
       "publisher                                                                 \n",
       "10TACLE Studios                   0.07      0.04      0.00         0.00   \n",
       "1C Company                        0.01      0.07      0.00         0.02   \n",
       "20th Century Fox Video Games      1.82      0.10      0.00         0.01   \n",
       "2D Boy                            0.00      0.03      0.00         0.01   \n",
       "3DO                               6.48      3.04      0.00         0.63   \n",
       "\n",
       "                              global_sales  cluster_3  cluster_4  \n",
       "publisher                                                         \n",
       "10TACLE Studios                       0.11          0          0  \n",
       "1C Company                            0.10          0          0  \n",
       "20th Century Fox Video Games          1.94          0          0  \n",
       "2D Boy                                0.04          0          0  \n",
       "3DO                                  10.12          0          0  "
      ]
     },
     "execution_count": 70,
     "metadata": {},
     "output_type": "execute_result"
    }
   ],
   "source": [
    "# Run KMeans with 3 and 4 clusters\n",
    "kmeans_3 = KMeans(n_clusters=3, random_state=42)\n",
    "kmeans_4 = KMeans(n_clusters=4, random_state=42)\n",
    "\n",
    "# Fit the models\n",
    "clusters_3 = kmeans_3.fit_predict(scaled_df)\n",
    "clusters_4 = kmeans_4.fit_predict(scaled_df)\n",
    "\n",
    "# Add cluster labels to the original (unscaled) DataFrame\n",
    "publisher_clustered = publisher_sales.copy()\n",
    "publisher_clustered['cluster_3'] = clusters_3\n",
    "publisher_clustered['cluster_4'] = clusters_4\n",
    "\n",
    "# Preview results\n",
    "publisher_clustered.head()"
   ]
  },
  {
   "cell_type": "markdown",
   "id": "a3515667-084f-4f18-8270-56dc36753c18",
   "metadata": {},
   "source": [
    "🔽🔽🔽🔽🔽"
   ]
  },
  {
   "cell_type": "markdown",
   "id": "edc82b2f-6010-4e01-a0ff-9c54b64ac0c3",
   "metadata": {},
   "source": [
    "### 🔹Visualize the clusters\n",
    "\n",
    "To get a better sense of how publishers are grouped, I’m using PCA to reduce the sales features to 2D.  \n",
    "Then I’ll plot both the 3-cluster and 4-cluster versions side by side to compare."
   ]
  },
  {
   "cell_type": "code",
   "execution_count": 82,
   "id": "e5e8ff9b-7ca2-40ae-a9ed-aef49c2aa310",
   "metadata": {},
   "outputs": [
    {
     "data": {
      "image/png": "[encoded data removed]",
      "text/plain": [
       "<Figure size 1400x600 with 2 Axes>"
      ]
     },
     "metadata": {},
     "output_type": "display_data"
    }
   ],
   "source": [
    "from sklearn.decomposition import PCA\n",
    "import matplotlib.pyplot as plt\n",
    "\n",
    "# Reduce to 2D for visualization\n",
    "pca = PCA(n_components=2)\n",
    "pca_data = pca.fit_transform(scaled_df)\n",
    "\n",
    "# Create DataFrame for plotting\n",
    "plot_df = pd.DataFrame(pca_data, columns=['PC1', 'PC2'], index=publisher_clustered.index)\n",
    "plot_df['cluster_3'] = publisher_clustered['cluster_3']\n",
    "plot_df['cluster_4'] = publisher_clustered['cluster_4']\n",
    "\n",
    "# Plot both side-by-side\n",
    "fig, axs = plt.subplots(1, 2, figsize=(14, 6))\n",
    "\n",
    "# 3 clusters\n",
    "axs[0].scatter(plot_df['PC1'], plot_df['PC2'], c=plot_df['cluster_3'], cmap='tab10', s=30)\n",
    "axs[0].set_title('Publisher Clusters (k=3)')\n",
    "axs[0].set_xlabel('PC1')\n",
    "axs[0].set_ylabel('PC2')\n",
    "\n",
    "# 4 clusters\n",
    "axs[1].scatter(plot_df['PC1'], plot_df['PC2'], c=plot_df['cluster_4'], cmap='tab10', s=30)\n",
    "axs[1].set_title('Publisher Clusters (k=4)')\n",
    "axs[1].set_xlabel('PC1')\n",
    "axs[1].set_ylabel('PC2')\n",
    "\n",
    "plt.tight_layout()\n",
    "plt.show()"
   ]
  },
  {
   "cell_type": "markdown",
   "id": "12ca3ac6-9509-4309-87d5-e24f9fbe88a7",
   "metadata": {},
   "source": [
    "### 🧩 Interpreting the clustering results\n",
    "\n",
    "Both models worked: one with 3 clusters and one with 4 so I compared them side by side.\n",
    "\n",
    "**With 3 clusters**, the split is pretty clean:\n",
    "1. Big publishers with strong global sales\n",
    "2. Region-focused publishers (mostly NA and EU)\n",
    "3. Smaller publishers with low overall sales\n",
    "\n",
    "This version is simple and easy to explain. It gives a clear picture of who’s dominating, who’s focused on specific markets, and who has limited reach.\n",
    "\n",
    "**With 4 clusters**, it adds more detail. One of the groups from before breaks into two:\n",
    "- Some publishers focus mostly on NA and EU\n",
    "- Others have more sales in Japan or are spread across regions with smaller numbers\n",
    "\n",
    "That extra layer helps GameCo see different types of publisher behavior. One group might be stronger in Western markets, while another leans more toward Japan or has balanced but modest sales across regions.\n",
    "\n",
    "Both versions are useful. The 3-cluster model is easier to explain. The 4-cluster version adds more detail if we want to dig deeper into strategy."
   ]
  },
  {
   "cell_type": "markdown",
   "id": "1b40d300-1f3f-4973-9322-ee95067672e0",
   "metadata": {},
   "source": [
    "🔽🔽🔽🔽🔽"
   ]
  },
  {
   "cell_type": "markdown",
   "id": "fdf71b45-73e2-40cc-a227-3d543733f1a6",
   "metadata": {},
   "source": [
    "### 🔹Identify top publishers in each cluster (k=4)\n",
    "\n",
    "To make the clusters more meaningful, I want to see which publishers ended up in each group.  \n",
    "This helps connect the patterns I found to real companies, like Nintendo, EA, or Ubisoft, and makes the insights easier to act on."
   ]
  },
  {
   "cell_type": "code",
   "execution_count": 91,
   "id": "971be890-92ea-4ffd-a96d-5793814cdbed",
   "metadata": {},
   "outputs": [
    {
     "name": "stdout",
     "output_type": "stream",
     "text": [
      "Publishers per cluster:\n",
      "cluster_4\n",
      "0    566\n",
      "1      8\n",
      "2      1\n",
      "3      1\n",
      "Name: count, dtype: int64\n",
      "\n",
      "Top publishers in Cluster 0:\n"
     ]
    },
    {
     "data": {
      "text/html": [
       "<div>\n",
       "<style scoped>\n",
       "    .dataframe tbody tr th:only-of-type {\n",
       "        vertical-align: middle;\n",
       "    }\n",
       "\n",
       "    .dataframe tbody tr th {\n",
       "        vertical-align: top;\n",
       "    }\n",
       "\n",
       "    .dataframe thead th {\n",
       "        text-align: right;\n",
       "    }\n",
       "</style>\n",
       "<table border=\"1\" class=\"dataframe\">\n",
       "  <thead>\n",
       "    <tr style=\"text-align: right;\">\n",
       "      <th></th>\n",
       "      <th>global_sales</th>\n",
       "    </tr>\n",
       "    <tr>\n",
       "      <th>publisher</th>\n",
       "      <th></th>\n",
       "    </tr>\n",
       "  </thead>\n",
       "  <tbody>\n",
       "    <tr>\n",
       "      <th>Namco Bandai Games</th>\n",
       "      <td>253.46</td>\n",
       "    </tr>\n",
       "    <tr>\n",
       "      <th>Capcom</th>\n",
       "      <td>199.95</td>\n",
       "    </tr>\n",
       "    <tr>\n",
       "      <th>Atari</th>\n",
       "      <td>146.72</td>\n",
       "    </tr>\n",
       "    <tr>\n",
       "      <th>Square Enix</th>\n",
       "      <td>144.73</td>\n",
       "    </tr>\n",
       "    <tr>\n",
       "      <th>Warner Bros. Interactive Entertainment</th>\n",
       "      <td>142.34</td>\n",
       "    </tr>\n",
       "  </tbody>\n",
       "</table>\n",
       "</div>"
      ],
      "text/plain": [
       "                                        global_sales\n",
       "publisher                                           \n",
       "Namco Bandai Games                            253.46\n",
       "Capcom                                        199.95\n",
       "Atari                                         146.72\n",
       "Square Enix                                   144.73\n",
       "Warner Bros. Interactive Entertainment        142.34"
      ]
     },
     "metadata": {},
     "output_type": "display_data"
    },
    {
     "name": "stdout",
     "output_type": "stream",
     "text": [
      "\n",
      "Top publishers in Cluster 1:\n"
     ]
    },
    {
     "data": {
      "text/html": [
       "<div>\n",
       "<style scoped>\n",
       "    .dataframe tbody tr th:only-of-type {\n",
       "        vertical-align: middle;\n",
       "    }\n",
       "\n",
       "    .dataframe tbody tr th {\n",
       "        vertical-align: top;\n",
       "    }\n",
       "\n",
       "    .dataframe thead th {\n",
       "        text-align: right;\n",
       "    }\n",
       "</style>\n",
       "<table border=\"1\" class=\"dataframe\">\n",
       "  <thead>\n",
       "    <tr style=\"text-align: right;\">\n",
       "      <th></th>\n",
       "      <th>global_sales</th>\n",
       "    </tr>\n",
       "    <tr>\n",
       "      <th>publisher</th>\n",
       "      <th></th>\n",
       "    </tr>\n",
       "  </thead>\n",
       "  <tbody>\n",
       "    <tr>\n",
       "      <th>Activision</th>\n",
       "      <td>721.36</td>\n",
       "    </tr>\n",
       "    <tr>\n",
       "      <th>Sony Computer Entertainment</th>\n",
       "      <td>607.20</td>\n",
       "    </tr>\n",
       "    <tr>\n",
       "      <th>Ubisoft</th>\n",
       "      <td>473.49</td>\n",
       "    </tr>\n",
       "    <tr>\n",
       "      <th>Take-Two Interactive</th>\n",
       "      <td>399.30</td>\n",
       "    </tr>\n",
       "    <tr>\n",
       "      <th>THQ</th>\n",
       "      <td>340.44</td>\n",
       "    </tr>\n",
       "  </tbody>\n",
       "</table>\n",
       "</div>"
      ],
      "text/plain": [
       "                             global_sales\n",
       "publisher                                \n",
       "Activision                         721.36\n",
       "Sony Computer Entertainment        607.20\n",
       "Ubisoft                            473.49\n",
       "Take-Two Interactive               399.30\n",
       "THQ                                340.44"
      ]
     },
     "metadata": {},
     "output_type": "display_data"
    },
    {
     "name": "stdout",
     "output_type": "stream",
     "text": [
      "\n",
      "Top publishers in Cluster 2:\n"
     ]
    },
    {
     "data": {
      "text/html": [
       "<div>\n",
       "<style scoped>\n",
       "    .dataframe tbody tr th:only-of-type {\n",
       "        vertical-align: middle;\n",
       "    }\n",
       "\n",
       "    .dataframe tbody tr th {\n",
       "        vertical-align: top;\n",
       "    }\n",
       "\n",
       "    .dataframe thead th {\n",
       "        text-align: right;\n",
       "    }\n",
       "</style>\n",
       "<table border=\"1\" class=\"dataframe\">\n",
       "  <thead>\n",
       "    <tr style=\"text-align: right;\">\n",
       "      <th></th>\n",
       "      <th>global_sales</th>\n",
       "    </tr>\n",
       "    <tr>\n",
       "      <th>publisher</th>\n",
       "      <th></th>\n",
       "    </tr>\n",
       "  </thead>\n",
       "  <tbody>\n",
       "    <tr>\n",
       "      <th>Electronic Arts</th>\n",
       "      <td>1,093.39</td>\n",
       "    </tr>\n",
       "  </tbody>\n",
       "</table>\n",
       "</div>"
      ],
      "text/plain": [
       "                 global_sales\n",
       "publisher                    \n",
       "Electronic Arts      1,093.39"
      ]
     },
     "metadata": {},
     "output_type": "display_data"
    },
    {
     "name": "stdout",
     "output_type": "stream",
     "text": [
      "\n",
      "Top publishers in Cluster 3:\n"
     ]
    },
    {
     "data": {
      "text/html": [
       "<div>\n",
       "<style scoped>\n",
       "    .dataframe tbody tr th:only-of-type {\n",
       "        vertical-align: middle;\n",
       "    }\n",
       "\n",
       "    .dataframe tbody tr th {\n",
       "        vertical-align: top;\n",
       "    }\n",
       "\n",
       "    .dataframe thead th {\n",
       "        text-align: right;\n",
       "    }\n",
       "</style>\n",
       "<table border=\"1\" class=\"dataframe\">\n",
       "  <thead>\n",
       "    <tr style=\"text-align: right;\">\n",
       "      <th></th>\n",
       "      <th>global_sales</th>\n",
       "    </tr>\n",
       "    <tr>\n",
       "      <th>publisher</th>\n",
       "      <th></th>\n",
       "    </tr>\n",
       "  </thead>\n",
       "  <tbody>\n",
       "    <tr>\n",
       "      <th>Nintendo</th>\n",
       "      <td>1,784.43</td>\n",
       "    </tr>\n",
       "  </tbody>\n",
       "</table>\n",
       "</div>"
      ],
      "text/plain": [
       "           global_sales\n",
       "publisher              \n",
       "Nintendo       1,784.43"
      ]
     },
     "metadata": {},
     "output_type": "display_data"
    }
   ],
   "source": [
    "# Count how many publishers are in each cluster\n",
    "publisher_counts = publisher_clustered['cluster_4'].value_counts().sort_index()\n",
    "print(\"Publishers per cluster:\")\n",
    "print(publisher_counts)\n",
    "\n",
    "# Show top publishers (by global sales) for each cluster\n",
    "for cluster in sorted(publisher_clustered['cluster_4'].unique()):\n",
    "    print(f\"\\nTop publishers in Cluster {cluster}:\")\n",
    "    top = publisher_clustered[publisher_clustered['cluster_4'] == cluster] \\\n",
    "        .sort_values('global_sales', ascending=False).head(5)\n",
    "    display(top[['global_sales']])"
   ]
  },
  {
   "cell_type": "markdown",
   "id": "bfd0932c-bc3e-4ad0-a17a-0cde443cb271",
   "metadata": {},
   "source": [
    "🔽🔽🔽🔽🔽"
   ]
  },
  {
   "cell_type": "markdown",
   "id": "9f9c6879-13f8-4a6d-a4c9-194a9e86e987",
   "metadata": {},
   "source": [
    "### 🔹Compare average regional sales by cluster\n",
    "\n",
    "Now that I’ve seen who’s in each cluster, I want to understand how they behave.  \n",
    "Looking at the average sales per region for each cluster will show if some groups are more NA-focused, more global, or just smaller overall."
   ]
  },
  {
   "cell_type": "code",
   "execution_count": 96,
   "id": "4bafda80-7e4a-4d86-abd5-b568aec9353b",
   "metadata": {},
   "outputs": [
    {
     "data": {
      "image/png": "[encoded data removed]",
      "text/plain": [
       "<Figure size 1000x600 with 1 Axes>"
      ]
     },
     "metadata": {},
     "output_type": "display_data"
    },
    {
     "data": {
      "text/html": [
       "<div>\n",
       "<style scoped>\n",
       "    .dataframe tbody tr th:only-of-type {\n",
       "        vertical-align: middle;\n",
       "    }\n",
       "\n",
       "    .dataframe tbody tr th {\n",
       "        vertical-align: top;\n",
       "    }\n",
       "\n",
       "    .dataframe thead th {\n",
       "        text-align: right;\n",
       "    }\n",
       "</style>\n",
       "<table border=\"1\" class=\"dataframe\">\n",
       "  <thead>\n",
       "    <tr style=\"text-align: right;\">\n",
       "      <th></th>\n",
       "      <th>na_sales</th>\n",
       "      <th>eu_sales</th>\n",
       "      <th>jp_sales</th>\n",
       "      <th>other_sales</th>\n",
       "      <th>global_sales</th>\n",
       "    </tr>\n",
       "    <tr>\n",
       "      <th>cluster_4</th>\n",
       "      <th></th>\n",
       "      <th></th>\n",
       "      <th></th>\n",
       "      <th></th>\n",
       "      <th></th>\n",
       "    </tr>\n",
       "  </thead>\n",
       "  <tbody>\n",
       "    <tr>\n",
       "      <th>0</th>\n",
       "      <td>2.12</td>\n",
       "      <td>1.10</td>\n",
       "      <td>1.00</td>\n",
       "      <td>0.35</td>\n",
       "      <td>4.58</td>\n",
       "    </tr>\n",
       "    <tr>\n",
       "      <th>1</th>\n",
       "      <td>215.75</td>\n",
       "      <td>124.44</td>\n",
       "      <td>31.12</td>\n",
       "      <td>45.43</td>\n",
       "      <td>417.08</td>\n",
       "    </tr>\n",
       "    <tr>\n",
       "      <th>2</th>\n",
       "      <td>584.22</td>\n",
       "      <td>367.38</td>\n",
       "      <td>13.98</td>\n",
       "      <td>127.40</td>\n",
       "      <td>1,093.39</td>\n",
       "    </tr>\n",
       "    <tr>\n",
       "      <th>3</th>\n",
       "      <td>815.75</td>\n",
       "      <td>418.30</td>\n",
       "      <td>454.99</td>\n",
       "      <td>94.92</td>\n",
       "      <td>1,784.43</td>\n",
       "    </tr>\n",
       "  </tbody>\n",
       "</table>\n",
       "</div>"
      ],
      "text/plain": [
       "           na_sales  eu_sales  jp_sales  other_sales  global_sales\n",
       "cluster_4                                                         \n",
       "0              2.12      1.10      1.00         0.35          4.58\n",
       "1            215.75    124.44     31.12        45.43        417.08\n",
       "2            584.22    367.38     13.98       127.40      1,093.39\n",
       "3            815.75    418.30    454.99        94.92      1,784.43"
      ]
     },
     "execution_count": 96,
     "metadata": {},
     "output_type": "execute_result"
    }
   ],
   "source": [
    "# Calculate mean sales by cluster\n",
    "cluster_avg_sales = publisher_clustered.groupby('cluster_4')[['na_sales', 'eu_sales', 'jp_sales', 'other_sales', 'global_sales']].mean()\n",
    "\n",
    "# Round for readability\n",
    "cluster_avg_sales = cluster_avg_sales.round(2)\n",
    "\n",
    "# Display the results\n",
    "import matplotlib.pyplot as plt\n",
    "cluster_avg_sales.plot(kind='bar', figsize=(10, 6))\n",
    "plt.title(\"Average Sales by Region for Each Publisher Cluster (k=4)\")\n",
    "plt.ylabel(\"Average Sales (millions)\")\n",
    "plt.xlabel(\"Cluster\")\n",
    "plt.xticks(rotation=0)\n",
    "plt.tight_layout()\n",
    "plt.show()\n",
    "\n",
    "# Show table too\n",
    "cluster_avg_sales"
   ]
  },
  {
   "cell_type": "markdown",
   "id": "07e33162-bdc8-43b0-ad75-fc392654f1a3",
   "metadata": {},
   "source": [
    "### 📊 Comparing average sales by cluster\n",
    "\n",
    "Looking at the average sales across regions really helps define what each cluster is doing.\n",
    "\n",
    "**Cluster 0** has the lowest numbers across the board. These are small publishers with limited reach, probably focused on a few titles or markets.\n",
    "\n",
    "**Cluster 1** is mid-tier. They do well in North America and Europe but have lower numbers in Japan and globally overall. These might be solid regional players that haven’t scaled up globally yet.\n",
    "\n",
    "**Cluster 2** stands out as a strong performer. High sales in NA and EU, some presence in JP and Other regions, and strong global totals. This group is balanced and well established.\n",
    "\n",
    "**Cluster 3** is clearly the top tier. These publishers are doing big numbers in all regions, especially Japan, which most others struggle with. Global sales here are massive. This is where Nintendo and a few other major names show up.\n",
    "\n",
    "This breakdown helps GameCo understand where different types of publishers sit. Whether they want to work with global leaders or find under tapped regional players, the clusters make those patterns easier to spot."
   ]
  },
  {
   "cell_type": "markdown",
   "id": "6b859c2d-851f-4b19-aa73-68d7651b094c",
   "metadata": {},
   "source": [
    "---"
   ]
  },
  {
   "cell_type": "markdown",
   "id": "bb7f9e86-a26b-4a0f-adbb-e861b4da1662",
   "metadata": {},
   "source": [
    "## 5. Feature Engineering\n",
    "\n",
    "The data is clean and I’ve already explored some key patterns, so it’s time to create new features to support the next steps.  \n",
    "These will help show things like how efficient publishers are, whether they’re region-focused, or how they behave over time.  \n",
    "They’ll also be useful if I move into modeling or more advanced analysis later on."
   ]
  },
  {
   "cell_type": "markdown",
   "id": "85948461-46bd-4fa6-9638-df359abd5a62",
   "metadata": {},
   "source": [
    "### 🔹Sales_per_title feature\n",
    "\n",
    "Some publishers release tons of games, but don’t sell much per title.  \n",
    "Others might release fewer games but generate a lot of sales per game.  \n",
    "This feature helps show which publishers are more efficient in terms of sales per release."
   ]
  },
  {
   "cell_type": "code",
   "execution_count": 108,
   "id": "eaf67e88-11d9-4d6f-b860-c09def557842",
   "metadata": {},
   "outputs": [
    {
     "data": {
      "text/html": [
       "<div>\n",
       "<style scoped>\n",
       "    .dataframe tbody tr th:only-of-type {\n",
       "        vertical-align: middle;\n",
       "    }\n",
       "\n",
       "    .dataframe tbody tr th {\n",
       "        vertical-align: top;\n",
       "    }\n",
       "\n",
       "    .dataframe thead th {\n",
       "        text-align: right;\n",
       "    }\n",
       "</style>\n",
       "<table border=\"1\" class=\"dataframe\">\n",
       "  <thead>\n",
       "    <tr style=\"text-align: right;\">\n",
       "      <th></th>\n",
       "      <th>global_sales</th>\n",
       "      <th>title_count</th>\n",
       "      <th>sales_per_title</th>\n",
       "    </tr>\n",
       "    <tr>\n",
       "      <th>publisher</th>\n",
       "      <th></th>\n",
       "      <th></th>\n",
       "      <th></th>\n",
       "    </tr>\n",
       "  </thead>\n",
       "  <tbody>\n",
       "    <tr>\n",
       "      <th>Palcom</th>\n",
       "      <td>4.17</td>\n",
       "      <td>1</td>\n",
       "      <td>4.17</td>\n",
       "    </tr>\n",
       "    <tr>\n",
       "      <th>Red Orb</th>\n",
       "      <td>5.24</td>\n",
       "      <td>2</td>\n",
       "      <td>2.62</td>\n",
       "    </tr>\n",
       "    <tr>\n",
       "      <th>Nintendo</th>\n",
       "      <td>1,784.43</td>\n",
       "      <td>696</td>\n",
       "      <td>2.56</td>\n",
       "    </tr>\n",
       "    <tr>\n",
       "      <th>Arena Entertainment</th>\n",
       "      <td>4.72</td>\n",
       "      <td>2</td>\n",
       "      <td>2.36</td>\n",
       "    </tr>\n",
       "    <tr>\n",
       "      <th>UEP Systems</th>\n",
       "      <td>2.25</td>\n",
       "      <td>1</td>\n",
       "      <td>2.25</td>\n",
       "    </tr>\n",
       "  </tbody>\n",
       "</table>\n",
       "</div>"
      ],
      "text/plain": [
       "                     global_sales  title_count  sales_per_title\n",
       "publisher                                                      \n",
       "Palcom                       4.17            1             4.17\n",
       "Red Orb                      5.24            2             2.62\n",
       "Nintendo                 1,784.43          696             2.56\n",
       "Arena Entertainment          4.72            2             2.36\n",
       "UEP Systems                  2.25            1             2.25"
      ]
     },
     "execution_count": 108,
     "metadata": {},
     "output_type": "execute_result"
    }
   ],
   "source": [
    "# Calculate number of titles per publisher\n",
    "publisher_counts = df['publisher'].value_counts()\n",
    "\n",
    "# Map title counts to the publisher_clustered DataFrame\n",
    "publisher_clustered['title_count'] = publisher_clustered.index.map(publisher_counts)\n",
    "\n",
    "# Create the new feature\n",
    "publisher_clustered['sales_per_title'] = (publisher_clustered['global_sales'] / publisher_clustered['title_count']).round(2)\n",
    "\n",
    "# Preview result\n",
    "publisher_clustered[['global_sales', 'title_count', 'sales_per_title']].sort_values(by='sales_per_title', ascending=False).head()"
   ]
  },
  {
   "cell_type": "markdown",
   "id": "04b1b87d-7f90-4f12-8b4e-4f3ec0ea9683",
   "metadata": {},
   "source": [
    "### 🎯 Interpreting sales_per_title results\n",
    "\n",
    "This shows how much global sales each publisher generates per game released.\n",
    "\n",
    "Publishers like Palcom and Red Orb are at the top of this list, but it’s because they only released one or two games.  \n",
    "Nintendo, on the other hand, released over 600 titles and still lands near the top, which says a lot about their consistency and reach.\n",
    "\n",
    "This feature helps separate publishers who release a ton of games from those who actually perform well per title.  \n",
    "It’s also a good starting point if I want to model publisher efficiency or explore release strategies later on."
   ]
  },
  {
   "cell_type": "markdown",
   "id": "9025807e-3734-49e5-b313-9568dc9b9b13",
   "metadata": {},
   "source": [
    "🔽🔽🔽🔽🔽"
   ]
  },
  {
   "cell_type": "markdown",
   "id": "1270d8be-c169-4119-a42e-7f03c6160889",
   "metadata": {},
   "source": [
    "### 🔹Create na_focus_ratio feature\n",
    "\n",
    "This feature shows how much of a publisher’s global sales come from North America.  \n",
    "It helps spot publishers that are heavily focused on NA versus those with more balanced or international reach."
   ]
  },
  {
   "cell_type": "code",
   "execution_count": 115,
   "id": "bec86742-33fd-4fe2-abe5-436f42004157",
   "metadata": {},
   "outputs": [
    {
     "data": {
      "text/html": [
       "<div>\n",
       "<style scoped>\n",
       "    .dataframe tbody tr th:only-of-type {\n",
       "        vertical-align: middle;\n",
       "    }\n",
       "\n",
       "    .dataframe tbody tr th {\n",
       "        vertical-align: top;\n",
       "    }\n",
       "\n",
       "    .dataframe thead th {\n",
       "        text-align: right;\n",
       "    }\n",
       "</style>\n",
       "<table border=\"1\" class=\"dataframe\">\n",
       "  <thead>\n",
       "    <tr style=\"text-align: right;\">\n",
       "      <th></th>\n",
       "      <th>na_sales</th>\n",
       "      <th>global_sales</th>\n",
       "      <th>na_focus_ratio</th>\n",
       "    </tr>\n",
       "    <tr>\n",
       "      <th>publisher</th>\n",
       "      <th></th>\n",
       "      <th></th>\n",
       "      <th></th>\n",
       "    </tr>\n",
       "  </thead>\n",
       "  <tbody>\n",
       "    <tr>\n",
       "      <th>HAL Laboratory</th>\n",
       "      <td>0.06</td>\n",
       "      <td>0.06</td>\n",
       "      <td>1.00</td>\n",
       "    </tr>\n",
       "    <tr>\n",
       "      <th>Westwood Studios</th>\n",
       "      <td>1.55</td>\n",
       "      <td>1.55</td>\n",
       "      <td>1.00</td>\n",
       "    </tr>\n",
       "    <tr>\n",
       "      <th>Her Interactive</th>\n",
       "      <td>0.03</td>\n",
       "      <td>0.03</td>\n",
       "      <td>1.00</td>\n",
       "    </tr>\n",
       "    <tr>\n",
       "      <th>Cloud Imperium Games Corporation</th>\n",
       "      <td>0.08</td>\n",
       "      <td>0.08</td>\n",
       "      <td>1.00</td>\n",
       "    </tr>\n",
       "    <tr>\n",
       "      <th>Dusenberry Martin Racing</th>\n",
       "      <td>0.05</td>\n",
       "      <td>0.05</td>\n",
       "      <td>1.00</td>\n",
       "    </tr>\n",
       "  </tbody>\n",
       "</table>\n",
       "</div>"
      ],
      "text/plain": [
       "                                  na_sales  global_sales  na_focus_ratio\n",
       "publisher                                                               \n",
       "HAL Laboratory                        0.06          0.06            1.00\n",
       "Westwood Studios                      1.55          1.55            1.00\n",
       "Her Interactive                       0.03          0.03            1.00\n",
       "Cloud Imperium Games Corporation      0.08          0.08            1.00\n",
       "Dusenberry Martin Racing              0.05          0.05            1.00"
      ]
     },
     "execution_count": 115,
     "metadata": {},
     "output_type": "execute_result"
    }
   ],
   "source": [
    "# Avoid divide-by-zero by replacing 0 global_sales with NaN\n",
    "publisher_clustered['na_focus_ratio'] = (\n",
    "    publisher_clustered['na_sales'] / publisher_clustered['global_sales'].replace(0, np.nan)\n",
    ").round(2)\n",
    "\n",
    "# Preview top and bottom publishers by NA focus\n",
    "publisher_clustered[['na_sales', 'global_sales', 'na_focus_ratio']] \\\n",
    "    .sort_values(by='na_focus_ratio', ascending=False).head()"
   ]
  },
  {
   "cell_type": "markdown",
   "id": "d827398d-92a6-429d-bd8c-60b7281b6192",
   "metadata": {},
   "source": [
    "### 📍 Interpreting na_focus_ratio results\n",
    "\n",
    "This feature shows which publishers are entirely focused on North America.\n",
    "\n",
    "Publishers like HAL Laboratory and Westwood Studios have all of their sales coming from NA, with no significant presence in other regions.  \n",
    "This helps GameCo spot regional concentration and possible gaps in market coverage.\n",
    "\n",
    "It also gives context to earlier cluster results. A publisher might have decent global sales but still be mostly NA based in terms of audience.  \n",
    "This feature could be useful for identifying expansion opportunities or evaluating risk tied to regional dependency."
   ]
  },
  {
   "cell_type": "markdown",
   "id": "4a0e5f40-cb55-4244-a26c-6f8a2c70fcda",
   "metadata": {},
   "source": [
    "---"
   ]
  },
  {
   "cell_type": "markdown",
   "id": "8dbfe7c3-6f4e-4099-ba30-6511aa7c0a55",
   "metadata": {},
   "source": [
    "## 6. Case Study Analysis\n",
    "\n",
    "After cleaning the data, exploring trends, and applying clustering, I wanted to help GameCo understand what kind of publishers exist in the market, how they behave, and where the best opportunities might be.\n",
    "\n",
    "Clustering publishers by regional and global sales helped surface different behavior patterns, from global giants like Nintendo to regionally focused publishers with strong sales in just one market.  \n",
    "The clusters gave GameCo a way to spot publisher types based on performance, not just brand recognition.\n",
    "\n",
    "I also created two new features to dig into efficiency and focus:\n",
    "\n",
    "- `sales_per_title` showed how much global revenue publishers earn per game, helping separate quantity from quality.\n",
    "- `na_focus_ratio` revealed which publishers are entirely dependent on North America, which could signal market limitations or expansion potential.\n",
    "\n",
    "Together, these patterns help answer key questions:  \n",
    "Who should GameCo partner with? Who’s underperforming globally but strong in one market? And which publishers punch above their weight with just a few solid releases?\n",
    "\n",
    "This analysis gives GameCo a fresh lens to approach its publisher strategy, from partnerships to regional marketing to identifying gaps in the market."
   ]
  },
  {
   "cell_type": "markdown",
   "id": "fc0e67fd-261e-48c1-aa1b-b6cb5a43f2a7",
   "metadata": {},
   "source": [
    "---"
   ]
  },
  {
   "cell_type": "markdown",
   "id": "e661e5df-e88e-4309-a81f-7078d9c5c349",
   "metadata": {},
   "source": [
    "## 7. Conclusion\n",
    "\n",
    "This analysis gave me the chance to go beyond surface-level trends and really dig into publisher behavior using Python and machine learning.\n",
    "\n",
    "I used KMeans clustering to group publishers based on their sales across different regions, which helped reveal patterns that weren’t visible just by looking at totals or charts.  \n",
    "From there, I built new features to explore how efficient each publisher is and how focused they are on certain markets, especially North America.\n",
    "\n",
    "These insights can help GameCo make smarter decisions about who to work with, where to expand, and how to position its strategy moving forward.\n",
    "\n",
    "If I were to keep going, I’d want to bring in newer data past 2016 and maybe explore time trends or predictive models to forecast shifts in the market.  \n",
    "But even with the existing data, this case study showed how much value can come from clustering, clean analysis, and asking the right questions."
   ]
  }
 ],
 "metadata": {
  "kernelspec": {
   "display_name": "Python [conda env:base] *",
   "language": "python",
   "name": "conda-base-py"
  },
  "language_info": {
   "codemirror_mode": {
    "name": "ipython",
    "version": 3
   },
   "file_extension": ".py",
   "mimetype": "text/x-python",
   "name": "python",
   "nbconvert_exporter": "python",
   "pygments_lexer": "ipython3",
   "version": "3.12.8"
  }
 },
 "nbformat": 4,
 "nbformat_minor": 5
}
